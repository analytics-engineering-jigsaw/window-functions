{
 "cells": [
  {
   "cell_type": "markdown",
   "id": "1d7680d7-9d64-4df3-a198-b11ace0a66da",
   "metadata": {},
   "source": [
    "# Window Functions Lab"
   ]
  },
  {
   "cell_type": "code",
   "execution_count": null,
   "id": "7ce01e0c-7920-44fc-8ba8-75f50e7ed9b3",
   "metadata": {},
   "outputs": [],
   "source": []
  }
 ],
 "metadata": {
  "kernelspec": {
   "display_name": "Python 3 (ipykernel)",
   "language": "python",
   "name": "python3"
  },
  "language_info": {
   "codemirror_mode": {
    "name": "ipython",
    "version": 3
   },
   "file_extension": ".py",
   "mimetype": "text/x-python",
   "name": "python",
   "nbconvert_exporter": "python",
   "pygments_lexer": "ipython3",
   "version": "3.9.7"
  }
 },
 "nbformat": 4,
 "nbformat_minor": 5
}
